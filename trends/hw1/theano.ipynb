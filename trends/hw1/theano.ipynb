{
 "cells": [
  {
   "cell_type": "markdown",
   "metadata": {},
   "source": [
    "# Theano, Lasagne\n",
    "и с чем их едят"
   ]
  },
  {
   "cell_type": "markdown",
   "metadata": {},
   "source": [
    "# разминка\n",
    "* напиши на numpy функцию, которая считает сумму квадратов чисел от 0 до N, где N - аргумент\n",
    "* массив чисел от 0 до N - numpy.arange(N)"
   ]
  },
  {
   "cell_type": "code",
   "execution_count": null,
   "metadata": {
    "collapsed": true
   },
   "outputs": [],
   "source": [
    "!pip install Theano\n",
    "!pip install lasagne"
   ]
  },
  {
   "cell_type": "code",
   "execution_count": null,
   "metadata": {
    "collapsed": false
   },
   "outputs": [],
   "source": [
    "import numpy as np\n",
    "def sum_squares(N):\n",
    "    return np.sum([i*i for i in xrange(1,N+1)])"
   ]
  },
  {
   "cell_type": "code",
   "execution_count": null,
   "metadata": {
    "collapsed": false
   },
   "outputs": [],
   "source": [
    "%%time\n",
    "sum_squares(10**8)"
   ]
  },
  {
   "cell_type": "markdown",
   "metadata": {},
   "source": [
    "# theano teaser\n",
    "\n",
    "Как сделать то же самое"
   ]
  },
  {
   "cell_type": "code",
   "execution_count": null,
   "metadata": {
    "collapsed": true
   },
   "outputs": [],
   "source": [
    "import theano\n",
    "import theano.tensor as T"
   ]
  },
  {
   "cell_type": "code",
   "execution_count": null,
   "metadata": {
    "collapsed": false
   },
   "outputs": [],
   "source": [
    "\n",
    "\n",
    "#будущий параметр функции\n",
    "N = T.scalar(\"a dimension\",dtype='int32')\n",
    "\n",
    "\n",
    "#рецепт получения суммы квадратов\n",
    "result = (T.arange(N)**2).sum()\n",
    "\n",
    "#компиляция функции \"сумма квадратов\" чисел от 0 до N\n",
    "sum_function = theano.function(inputs = [N],outputs=result)"
   ]
  },
  {
   "cell_type": "code",
   "execution_count": null,
   "metadata": {
    "collapsed": false
   },
   "outputs": [],
   "source": [
    "%%time\n",
    "sum_function(10**8)"
   ]
  },
  {
   "cell_type": "markdown",
   "metadata": {},
   "source": [
    "# Как оно работает?\n",
    "* Нужно написать \"рецепт\" получения выходов по входам\n",
    "* То же самое на заумном: нужно описать символический граф вычислений\n",
    "\n",
    "\n",
    "* 2 вида зверей - \"входы\" и \"преобразования\"\n",
    "* Оба могут быть числами, массивами, матрицами, тензорами и т.п.\n",
    "\n",
    "\n",
    "* Вход - это то аргумент функции. То место, на которое подставится аргумент вызове.\n",
    " * N - вход в примере выше\n",
    "\n",
    "\n",
    "* Преобразования - рецепты вычисления чего-то на основе входов и констант\n",
    " * (T.arange(N)^2).sum() - 3 последовательных преобразования N\n",
    " * Работают почти 1 в 1 как векторные операции в numpy\n",
    " * почти всё, что есть в numpy есть в theano tensor и называется так же\n",
    "   * np.mean -> T.mean\n",
    "   * np.arange -> T.arange\n",
    "   * np.cumsum -> T.cumsum\n",
    "   * и так далее...\n",
    "   * Совсем редко - бывает, что меняется название или синтаксис - нужно спросить у семинаристов или гугла\n",
    " \n",
    " \n",
    "Ничего не понятно? Сейчас исправим."
   ]
  },
  {
   "cell_type": "code",
   "execution_count": null,
   "metadata": {
    "collapsed": false
   },
   "outputs": [],
   "source": [
    "#входы\n",
    "example_input_integer = T.scalar(\"вход - одно число(пример)\",dtype='float32')\n",
    "\n",
    "example_input_tensor = T.tensor4(\"вход - четырёхмерный тензор(пример)\")\n",
    "#не бойся, тензор нам не пригодится\n",
    "\n",
    "\n",
    "\n",
    "input_vector = T.vector(\"вход - вектор целых чисел\", dtype='int32')\n"
   ]
  },
  {
   "cell_type": "code",
   "execution_count": null,
   "metadata": {
    "collapsed": false
   },
   "outputs": [],
   "source": [
    "#преобразования\n",
    "\n",
    "#поэлементное умножение\n",
    "double_the_vector = input_vector*2\n",
    "\n",
    "#поэлементный косинус\n",
    "elementwise_cosine = T.cos(input_vector)\n",
    "\n",
    "#разность квадрата каждого элемента и самого элемента\n",
    "vector_squares = input_vector**2 - input_vector\n"
   ]
  },
  {
   "cell_type": "code",
   "execution_count": null,
   "metadata": {
    "collapsed": false
   },
   "outputs": [],
   "source": [
    "double_the_vector"
   ]
  },
  {
   "cell_type": "code",
   "execution_count": null,
   "metadata": {
    "collapsed": false
   },
   "outputs": [],
   "source": [
    "#теперь сам:\n",
    "#создай 2 вектора из чисел float32\n",
    "my_vector = T.vector(\"вектор из float32\", dtype='float32')\n",
    "my_vector2 = T.vector(\"2d vector of float32\", dtype='float32')"
   ]
  },
  {
   "cell_type": "code",
   "execution_count": null,
   "metadata": {
    "collapsed": false
   },
   "outputs": [],
   "source": [
    "#напиши преобразование, которое считает\n",
    "#(вектор 1)*(вектор 2) / (sin(вектор 1) +1)\n",
    "my_transformation = T.dot(my_vector, my_vector2)/ (T.sin(my_vector) + 1)"
   ]
  },
  {
   "cell_type": "code",
   "execution_count": null,
   "metadata": {
    "collapsed": false
   },
   "outputs": [],
   "source": [
    "print my_transformation\n",
    "#то, что получилась не чиселка - это нормально"
   ]
  },
  {
   "cell_type": "markdown",
   "metadata": {},
   "source": [
    "# Компиляция\n",
    "* До этого момента, мы использовали \"символические\" переменные\n",
    " * писали рецепт вычислений, но ничего не вычисляли\n",
    "* чтобы рецепт можно было использовать, его нужно скомпилировать"
   ]
  },
  {
   "cell_type": "code",
   "execution_count": null,
   "metadata": {
    "collapsed": false
   },
   "outputs": [],
   "source": [
    "inputs = [my_vector, my_vector2]\n",
    "outputs = [my_transformation]\n",
    "\n",
    "# можно скомпилировать написанные нами преобразования как функцию\n",
    "my_function = theano.function(\n",
    "    inputs,outputs,\n",
    "    allow_input_downcast=True #автоматически прводить типы (необязательно)\n",
    " )"
   ]
  },
  {
   "cell_type": "code",
   "execution_count": null,
   "metadata": {
    "collapsed": false
   },
   "outputs": [],
   "source": [
    "#можно вызвать вот-так:\n",
    "print \"using python lists:\"\n",
    "print my_function([1,2,3],[4,5,6])\n",
    "print\n",
    "\n",
    "#а можно так. \n",
    "#К слову, ту тип float приводится к типу второго вектора\n",
    "print \"using numpy arrays:\"\n",
    "print my_function(np.arange(10),\n",
    "                  np.linspace(5,6,10,dtype='float'))\n"
   ]
  },
  {
   "cell_type": "markdown",
   "metadata": {},
   "source": [
    "# хинт для отладки\n",
    "* Если ваша функция большая, компиляция может отнять какое-то время.\n",
    "* Чтобы не ждать, можно посчитать выражение без компиляции\n",
    "* Вы экономите время 1 раз на компиляции, но сам код выполняется медленнее\n"
   ]
  },
  {
   "cell_type": "code",
   "execution_count": null,
   "metadata": {
    "collapsed": false
   },
   "outputs": [],
   "source": [
    "#словарик значений для входов\n",
    "my_function_inputs = {\n",
    "    my_vector:[1,2,3],\n",
    "    my_vector2:[4,5,6]\n",
    "}\n",
    "\n",
    "#вычислить без компиляции\n",
    "#если мы ничего не перепутали, \n",
    "#должно получиться точно то же, что и раньше\n",
    "print my_transformation.eval(my_function_inputs)\n",
    "\n",
    "\n",
    "#можно вычислять преобразования на ходу\n",
    "print \"сумма 2 векторов\", (my_vector + my_vector2).eval(my_function_inputs)\n",
    "\n",
    "#!ВАЖНО! если преобразование зависит только от части переменных,\n",
    "#остальные давать не надо\n",
    "print \"форма первого вектора\", my_vector.shape.eval({\n",
    "        my_vector:[1,2,3]\n",
    "    })\n"
   ]
  },
  {
   "cell_type": "markdown",
   "metadata": {},
   "source": [
    "* Для отладки желательно уменьшить масштаб задачи. Если вы планировали послать на вход вектор из 10^9 примеров, пошлите 10~100.\n",
    "* Если #ОЧЕНЬ нужно послать большой вектор, быстрее скомпилировать функцию обычным способом"
   ]
  },
  {
   "cell_type": "markdown",
   "metadata": {},
   "source": [
    "# Теперь сам"
   ]
  },
  {
   "cell_type": "code",
   "execution_count": null,
   "metadata": {
    "collapsed": false
   },
   "outputs": [],
   "source": [
    "# Задание 1 - напиши и скомпилируй theano-функцию, которая считает среднеквадратичную ошибку двух векторов-входов\n",
    "# Вернуть нужно одно число - собственно, ошибку. Обновлять ничего не нужно\n",
    "\n",
    "firstVector = T.vector()\n",
    "secondVector = T.vector()\n",
    "\n",
    "mse = T.mean((firstVector - secondVector)**2)\n",
    "\n",
    "compute_mse = theano.function([firstVector, secondVector], mse)"
   ]
  },
  {
   "cell_type": "code",
   "execution_count": null,
   "metadata": {
    "collapsed": false
   },
   "outputs": [],
   "source": [
    "#тесты\n",
    "from sklearn.metrics import mean_squared_error\n",
    "\n",
    "for n in [1,5,10,10**3]:\n",
    "    \n",
    "    elems = [np.arange(n),np.arange(n,0,-1), np.zeros(n),\n",
    "             np.ones(n),np.random.random(n),np.random.randint(100,size=n)]\n",
    "    \n",
    "    for el in elems:\n",
    "        for el_2 in elems:\n",
    "            true_mse = np.array(mean_squared_error(el,el_2))\n",
    "            my_mse = compute_mse(el,el_2)\n",
    "            if not np.allclose(true_mse,my_mse):\n",
    "                print 'Wrong result:'\n",
    "                print 'mse(%s,%s)'%(el,el_2)\n",
    "                print \"should be: %f, but your function returned %f\"%(true_mse,my_mse)\n",
    "                raise ValueError,\"Что-то не так\"\n",
    "\n",
    "print \"All tests passed\"\n",
    "            \n",
    "    "
   ]
  },
  {
   "cell_type": "markdown",
   "metadata": {},
   "source": [
    "# Shared variables\n",
    "\n",
    "* Входы и преобразования - части рецепта. \n",
    " * Они существуют только во время вызова функции.\n",
    "\n",
    "\n",
    "* Shared переменные - всегда остаются в памяти\n",
    " * им можно поменять значение \n",
    "   * (но не внутри символического графа. Об этом позже)\n",
    " * их можно включить в граф вычислений\n",
    " \n",
    " \n",
    "* хинт - в таких переменных удобно хранить параметры и гиперпараметры\n",
    " * например, веса нейронки или learning rate, если вы его меняете"
   ]
  },
  {
   "cell_type": "code",
   "execution_count": null,
   "metadata": {
    "collapsed": false
   },
   "outputs": [],
   "source": [
    "#cоздадим расшаренную перменную\n",
    "shared_vector_1 = theano.shared(np.ones(10,dtype='float64'))"
   ]
  },
  {
   "cell_type": "code",
   "execution_count": null,
   "metadata": {
    "collapsed": false
   },
   "outputs": [],
   "source": [
    "\n",
    "#получить (численное) значение переменной\n",
    "print \"initial value\",shared_vector_1.get_value()"
   ]
  },
  {
   "cell_type": "code",
   "execution_count": null,
   "metadata": {
    "collapsed": false
   },
   "outputs": [],
   "source": [
    "#задать новое значение\n",
    "shared_vector_1.set_value( np.arange(5) )\n",
    "\n",
    "#проверим значение\n",
    "print \"new value\", shared_vector_1.get_value()\n",
    "\n",
    "#Заметь, что раньше это был вектор из 10 элементов, а сейчас - из 5. \n",
    "#Если граф при этом остался выполним, это сработает."
   ]
  },
  {
   "cell_type": "markdown",
   "metadata": {},
   "source": [
    "# Теперь сам"
   ]
  },
  {
   "cell_type": "code",
   "execution_count": null,
   "metadata": {
    "collapsed": false
   },
   "outputs": [],
   "source": [
    "#напиши рецепт (преобразование), которое считает произведение(поэллементное) shared_vector на input_scalar\n",
    "#скомпилируй это в функцию от input_scalar\n",
    "\n",
    "input_scalar = T.scalar('coefficient',dtype='float32')\n",
    "\n",
    "scalar_times_shared = input_scalar * shared_vector_1\n",
    "\n",
    "\n",
    "shared_times_n = theano.function([input_scalar], [scalar_times_shared])\n"
   ]
  },
  {
   "cell_type": "code",
   "execution_count": null,
   "metadata": {
    "collapsed": false
   },
   "outputs": [],
   "source": [
    "print \"shared:\", shared_vector_1.get_value()\n",
    "\n",
    "print \"shared_times_n(5)\",shared_times_n(5)\n",
    "\n",
    "print \"shared_times_n(-0.5)\",shared_times_n(-0.5)\n"
   ]
  },
  {
   "cell_type": "code",
   "execution_count": null,
   "metadata": {
    "collapsed": false
   },
   "outputs": [],
   "source": [
    "#поменяем значение shared_vector_1\n",
    "shared_vector_1.set_value([-1,0,1])\n",
    "print \"shared:\", shared_vector_1.get_value()\n",
    "\n",
    "print \"shared_times_n(5)\",shared_times_n(5)\n",
    "\n",
    "print \"shared_times_n(-0.5)\",shared_times_n(-0.5)\n"
   ]
  },
  {
   "cell_type": "markdown",
   "metadata": {},
   "source": [
    "# T.grad, самое вкусное\n",
    "* theano умеет само считать производные. Все, которые существуют.\n",
    "* Производные считаются в символическом, а не численном виде\n",
    "\n",
    "Ограничения\n",
    "* За раз можно считать производную __скалярной__ функции по одной или нескольким скалярным или векторным аргументам\n",
    "* Функция должна на всех этапах своего вычисления иметь тип float32 или float64 (т.к. на множестве целых чисел производная не имеет смысл)"
   ]
  },
  {
   "cell_type": "code",
   "execution_count": null,
   "metadata": {
    "collapsed": false
   },
   "outputs": [],
   "source": [
    "my_scalar = T.scalar(name='input',dtype='float64')\n",
    "\n",
    "scalar_squared = T.sum(my_scalar**2)\n",
    "\n",
    "#производная v_squared по my_vector\n",
    "derivative = T.grad(scalar_squared,my_scalar)\n",
    "\n",
    "fun = theano.function([my_scalar],scalar_squared)\n",
    "grad = theano.function([my_scalar],derivative) "
   ]
  },
  {
   "cell_type": "code",
   "execution_count": null,
   "metadata": {
    "collapsed": false
   },
   "outputs": [],
   "source": [
    "import matplotlib.pyplot as plt\n",
    "%matplotlib inline\n",
    "\n",
    "\n",
    "x = np.linspace(-3,3)\n",
    "x_squared = map(fun,x)\n",
    "x_squared_der = map(grad,x)\n",
    "\n",
    "plt.plot(x, x_squared,label=\"x^2\")\n",
    "plt.plot(x, x_squared_der, label=\"derivative\")\n",
    "plt.legend()"
   ]
  },
  {
   "cell_type": "markdown",
   "metadata": {},
   "source": [
    "# теперь сам"
   ]
  },
  {
   "cell_type": "code",
   "execution_count": null,
   "metadata": {
    "collapsed": false
   },
   "outputs": [],
   "source": [
    "\n",
    "my_vector = T.vector('float64')\n",
    "\n",
    "#посчитай производные этой функции по my_scalar и my_vector\n",
    "#warning! Не пытайся понять физический смысл этой функции\n",
    "weird_psychotic_function = ((my_vector+my_scalar)**(1+T.var(my_vector)) +1./T.arcsinh(my_scalar)).mean()/(my_scalar**2 +1) + 0.01*T.sin(2*my_scalar**1.5)*(T.sum(my_vector)* my_scalar**2)*T.exp((my_scalar-4)**2)/(1+T.exp((my_scalar-4)**2))*(1.-(T.exp(-(my_scalar-4)**2))/(1+T.exp(-(my_scalar-4)**2)))**2\n",
    "\n",
    "\n",
    "der_by_scalar,der_by_vector = T.grad(weird_psychotic_function, [my_scalar, my_vector])\n",
    "\n",
    "\n",
    "compute_weird_function = theano.function([my_scalar,my_vector],weird_psychotic_function)\n",
    "compute_der_by_scalar = theano.function([my_scalar,my_vector],der_by_scalar)\n"
   ]
  },
  {
   "cell_type": "code",
   "execution_count": null,
   "metadata": {
    "collapsed": false
   },
   "outputs": [],
   "source": [
    "#график функции и твоей производной\n",
    "vector_0 = [1,2,3]\n",
    "\n",
    "scalar_space = np.linspace(0,7)\n",
    "\n",
    "y = [compute_weird_function(x,vector_0) for x in scalar_space]\n",
    "plt.plot(scalar_space,y,label='function')\n",
    "y_der_by_scalar = [compute_der_by_scalar(x,vector_0) for x in scalar_space]\n",
    "plt.plot(scalar_space,y_der_by_scalar,label='derivative')\n",
    "plt.grid();plt.legend()\n"
   ]
  },
  {
   "cell_type": "markdown",
   "metadata": {},
   "source": [
    "# Последний штрих - Updates\n",
    "\n",
    "* updates - это способ изменять значения shared переменных каждый раз В КОНЦЕ вызова функции\n",
    "\n",
    "* фактически, это словарь {shared_переменная: рецепт нового значения}, который добавляется в функцию при компиляции\n",
    "\n",
    "Например,"
   ]
  },
  {
   "cell_type": "code",
   "execution_count": null,
   "metadata": {
    "collapsed": false
   },
   "outputs": [],
   "source": [
    "#умножим shared вектор на число и сохраним новое значение обратно в этот shared вектор\n",
    "\n",
    "inputs = [input_scalar]\n",
    "outputs = [scalar_times_shared] #вернём вектор, умноженный на число\n",
    "\n",
    "my_updates = {\n",
    "    shared_vector_1:scalar_times_shared #и этот же результат запишем в shared_vector_1\n",
    "}\n",
    "\n",
    "compute_and_save = theano.function(inputs, outputs, updates=my_updates)"
   ]
  },
  {
   "cell_type": "code",
   "execution_count": null,
   "metadata": {
    "collapsed": false
   },
   "outputs": [],
   "source": [
    "shared_vector_1.set_value(np.arange(5))\n",
    "\n",
    "#изначальное значение shared_vector_1\n",
    "print \"initial shared value:\" ,shared_vector_1.get_value()\n",
    "\n",
    "# теперь вычислим функцию (значение shared_vector_1 при этом поменяется)\n",
    "print \"compute_and_save(2) returns\",compute_and_save(2)\n",
    "\n",
    "#проверим, что в shared_vector_1\n",
    "print \"new shared value:\" ,shared_vector_1.get_value()\n",
    "\n"
   ]
  },
  {
   "cell_type": "markdown",
   "metadata": {},
   "source": [
    "# Логистическая регрессия\n",
    "Что нам потребуется:\n",
    "* Веса лучше хранить в shared-переменной\n",
    "* Данные можно передавать как input\n",
    "* Нужно 2 функции:\n",
    " * train_function(X,y) - возвращает ошибку и изменяет веса на 1 шаг по граиденту __(через updates)__\n",
    " * predict_fun(X) - возвращает предсказанные ответы (\"y\") по данным"
   ]
  },
  {
   "cell_type": "code",
   "execution_count": null,
   "metadata": {
    "collapsed": false
   },
   "outputs": [],
   "source": [
    "from sklearn.datasets import load_digits\n",
    "mnist = load_digits(2)\n",
    "\n",
    "X,y = mnist.data, mnist.target\n",
    "\n",
    "\n",
    "print \"y [форма - %s]:\"%(str(y.shape)),y[:10]\n",
    "\n",
    "print \"X [форма - %s]:\"%(str(X.shape))\n",
    "print X[:3]"
   ]
  },
  {
   "cell_type": "code",
   "execution_count": null,
   "metadata": {
    "collapsed": false
   },
   "outputs": [],
   "source": [
    "# переменные и входы\n",
    "shared_weights = theano.shared(np.zeros(X.shape[1], dtype='float32'))\n",
    "input_X = T.matrix(\"data\", dtype='float32')\n",
    "input_y = T.vector('answer', dtype='float32')"
   ]
  },
  {
   "cell_type": "code",
   "execution_count": null,
   "metadata": {
    "collapsed": false
   },
   "outputs": [],
   "source": [
    "predicted_y = T.sgn(T.dot(input_X,shared_weights))\n",
    "#1 / (1 + T.exp(-T.dot(input_X,shared_weights)))\n",
    "#<предсказание логрегрессии на input_X (вероятность класса)>\n",
    "loss = T.mean(T.log(1 + T.exp(-input_y *T.dot(input_X,shared_weights))))\n",
    "#<логистическая ошибка (число - среднее по выборке)>\n",
    "\n",
    "grad = T.grad(loss, shared_weights)#<градиент loss по весам модели>\n",
    "\n",
    "\n",
    "_updates = {\n",
    "    shared_weights: shared_weights-grad \n",
    "    #<новое значение весов после шага градиентного спуска>\n",
    "}"
   ]
  },
  {
   "cell_type": "code",
   "execution_count": null,
   "metadata": {
    "collapsed": false
   },
   "outputs": [],
   "source": [
    "train_function = theano.function([input_X,input_y], loss, updates=_updates, allow_input_downcast=True)\n",
    "# <функция, которая по X и Y возвращает ошибку и обновляет веса>\n",
    "predict_function = theano.function([input_X], predicted_y, allow_input_downcast=True)\n",
    "#<функция, которая по X считает предсказание для y>"
   ]
  },
  {
   "cell_type": "code",
   "execution_count": null,
   "metadata": {
    "collapsed": false
   },
   "outputs": [],
   "source": [
    "from sklearn.model_selection import train_test_split\n",
    "X_train,X_test,y_train,y_test = train_test_split(X,y)"
   ]
  },
  {
   "cell_type": "code",
   "execution_count": null,
   "metadata": {
    "collapsed": false
   },
   "outputs": [],
   "source": [
    "from sklearn.metrics import roc_auc_score, accuracy_score\n",
    "\n",
    "for i in range(5):\n",
    "    loss_i = train_function(X_train,y_train)\n",
    "    print \"loss at iter %i:%.4f\"%(i,loss_i)\n",
    "    print \"train auc:\",roc_auc_score(y_train,predict_function(X_train))\n",
    "    print \"test auc:\",roc_auc_score(y_test,predict_function(X_test))\n",
    "    print \"accuracy score:\", accuracy_score(y, predict_function(X))\n",
    "#    print shared_weights.eval()\n",
    "\n",
    "    \n",
    "print \"resulting weights:\"\n",
    "plt.imshow(shared_weights.get_value().reshape(8,-1))\n",
    "plt.colorbar()"
   ]
  },
  {
   "cell_type": "code",
   "execution_count": null,
   "metadata": {
    "collapsed": true
   },
   "outputs": [],
   "source": []
  }
 ],
 "metadata": {
  "anaconda-cloud": {},
  "kernelspec": {
   "display_name": "Python [conda root]",
   "language": "python",
   "name": "conda-root-py"
  },
  "language_info": {
   "codemirror_mode": {
    "name": "ipython",
    "version": 2
   },
   "file_extension": ".py",
   "mimetype": "text/x-python",
   "name": "python",
   "nbconvert_exporter": "python",
   "pygments_lexer": "ipython2",
   "version": "2.7.12"
  }
 },
 "nbformat": 4,
 "nbformat_minor": 0
}
